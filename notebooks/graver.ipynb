{
 "cells": [
  {
   "cell_type": "code",
   "execution_count": 1,
   "metadata": {},
   "outputs": [
    {
     "name": "stderr",
     "output_type": "stream",
     "text": [
      "\u001b[33m\u001b[1m┌ \u001b[22m\u001b[39m\u001b[33m\u001b[1mWarning: \u001b[22m\u001b[39mCircular dependency detected. Precompilation will be skipped for:\n",
      "\u001b[33m\u001b[1m│ \u001b[22m\u001b[39m  Base.PkgId(Base.UUID(\"63c18a36-062a-441e-b654-da1e3ab1ce7c\"), \"KernelAbstractions\")\n",
      "\u001b[33m\u001b[1m│ \u001b[22m\u001b[39m  Base.PkgId(Base.UUID(\"eae2faf6-b232-58cb-a410-7764fda2830c\"), \"ChainRulesCoreExt\")\n",
      "\u001b[33m\u001b[1m│ \u001b[22m\u001b[39m  Base.PkgId(Base.UUID(\"1285c0f1-ff9f-5867-b66e-0f359bcf09ba\"), \"SpecialFunctionsExt\")\n",
      "\u001b[33m\u001b[1m│ \u001b[22m\u001b[39m  Base.PkgId(Base.UUID(\"052768ef-5323-5732-b1bb-66c8b64840ba\"), \"CUDA\")\n",
      "\u001b[33m\u001b[1m│ \u001b[22m\u001b[39m  Base.PkgId(Base.UUID(\"85068d23-b5fb-53f1-8204-05c2aba6942f\"), \"SparseArraysExt\")\n",
      "\u001b[33m\u001b[1m│ \u001b[22m\u001b[39m  Base.PkgId(Base.UUID(\"13011619-4c7c-5ef0-948f-5fc81565cd05\"), \"AtomixCUDAExt\")\n",
      "\u001b[33m\u001b[1m│ \u001b[22m\u001b[39m  Base.PkgId(Base.UUID(\"66d79d19-2cc4-5b0b-ac7a-b340256d1ecd\"), \"LinearAlgebraExt\")\n",
      "\u001b[33m\u001b[1m│ \u001b[22m\u001b[39m  Base.PkgId(Base.UUID(\"02a925ec-e4fe-4b08-9a7e-0d78e3d38ccd\"), \"cuDNN\")\n",
      "\u001b[33m\u001b[1m└ \u001b[22m\u001b[39m\u001b[90m@ Base.Precompilation precompilation.jl:511\u001b[39m\n",
      "\u001b[36m\u001b[1m[ \u001b[22m\u001b[39m\u001b[36m\u001b[1mInfo: \u001b[22m\u001b[39mPrecompiling IPGBs [cd26b91b-75b4-4f6e-a355-d2a0d136006d] (cache misses: include_dependency fsize change (2), mismatched flags (16))\n"
     ]
    }
   ],
   "source": [
    "using IPGBs\n",
    "using JuMP\n",
    "using LinearAlgebra\n",
    "using Random"
   ]
  },
  {
   "cell_type": "code",
   "execution_count": 2,
   "metadata": {},
   "outputs": [
    {
     "data": {
      "text/plain": [
       "1-element Vector{Int64}:\n",
       " 8"
      ]
     },
     "execution_count": 2,
     "metadata": {},
     "output_type": "execute_result"
    }
   ],
   "source": [
    "Random.seed!(0)\n",
    "n = 5\n",
    "c = rand(1:10, 1, n)\n",
    "A = rand(1:10, 1, n)\n",
    "b = [round(Int, sum(A) / 2)]"
   ]
  },
  {
   "cell_type": "code",
   "execution_count": 3,
   "metadata": {},
   "outputs": [
    {
     "data": {
      "text/plain": [
       "51×5 Matrix{Int64}:\n",
       " 1   0   0   0  -2\n",
       " 0   1   0   0  -2\n",
       " 0   0   1   0  -8\n",
       " 0   0   0   1  -3\n",
       " 1  -1   0   0   0\n",
       " 1   0   0  -1   1\n",
       " 1   0  -1   0   6\n",
       " 0   1   0  -1   1\n",
       " 0   1  -1   0   6\n",
       " 0   0   1  -1  -5\n",
       " 1   1   0  -1  -1\n",
       " 1   0  -1   1   3\n",
       " 1   1  -1   0   4\n",
       " ⋮              \n",
       " 0   4  -1   0   0\n",
       " 1   2   0  -2   0\n",
       " 2   1   0  -2   0\n",
       " 0   3   0  -2   0\n",
       " 3   0   0  -2   0\n",
       " 1   1   1  -4   0\n",
       " 0   2   1  -4   0\n",
       " 2   0   1  -4   0\n",
       " 0   0   2  -5  -1\n",
       " 0   1   2  -6   0\n",
       " 1   0   2  -6   0\n",
       " 0   0   3  -8   0"
      ]
     },
     "execution_count": 3,
     "metadata": {},
     "output_type": "execute_result"
    }
   ],
   "source": [
    "gr = IPGBs.FourTi2.graver(A, [true, true, true, true, true]);\n",
    "gr"
   ]
  },
  {
   "cell_type": "code",
   "execution_count": 4,
   "metadata": {},
   "outputs": [
    {
     "data": {
      "text/plain": [
       "lawrence_lifting (generic function with 1 method)"
      ]
     },
     "execution_count": 4,
     "metadata": {},
     "output_type": "execute_result"
    }
   ],
   "source": [
    "function lawrence_lifting(A)\n",
    "    m, n = size(A)\n",
    "    I5 = I(5)\n",
    "    Z5 = zeros(Int, m, n) \n",
    "    return [A Z5; I5 I5]\n",
    "end"
   ]
  },
  {
   "cell_type": "code",
   "execution_count": 5,
   "metadata": {},
   "outputs": [
    {
     "data": {
      "text/plain": [
       "51×10 Matrix{Int64}:\n",
       " 0   1   0   0  -2   0  -1   0   0   2\n",
       " 0   0   1   0  -8   0   0  -1   0   8\n",
       " 0   0   0   1  -3   0   0   0  -1   3\n",
       " 1   0   0   0  -2  -1   0   0   0   2\n",
       " 1  -1   0   0   0  -1   1   0   0   0\n",
       " 1   0   0  -1   1  -1   0   0   1  -1\n",
       " 1   0  -1   0   6  -1   0   1   0  -6\n",
       " 0   1   0  -1   1   0  -1   0   1  -1\n",
       " 0   1  -1   0   6   0  -1   1   0  -6\n",
       " 0   0   1  -1  -5   0   0  -1   1   5\n",
       " 1   1   0  -1  -1  -1  -1   0   1   1\n",
       " 1   0  -1   1   3  -1   0   1  -1  -3\n",
       " 1   1  -1   0   4  -1  -1   1   0  -4\n",
       " ⋮                   ⋮              \n",
       " 0   4  -1   0   0   0  -4   1   0   0\n",
       " 1   2   0  -2   0  -1  -2   0   2   0\n",
       " 2   1   0  -2   0  -2  -1   0   2   0\n",
       " 0   3   0  -2   0   0  -3   0   2   0\n",
       " 3   0   0  -2   0  -3   0   0   2   0\n",
       " 1   1   1  -4   0  -1  -1  -1   4   0\n",
       " 0   2   1  -4   0   0  -2  -1   4   0\n",
       " 2   0   1  -4   0  -2   0  -1   4   0\n",
       " 0   0   2  -5  -1   0   0  -2   5   1\n",
       " 0   1   2  -6   0   0  -1  -2   6   0\n",
       " 1   0   2  -6   0  -1   0  -2   6   0\n",
       " 0   0   3  -8   0   0   0  -3   8   0"
      ]
     },
     "execution_count": 5,
     "metadata": {},
     "output_type": "execute_result"
    }
   ],
   "source": [
    "gr_lift = IPGBs.FourTi2.graver(lawrence_lifting(A), [true for _ in 1:10])\n",
    "gr_lift"
   ]
  },
  {
   "cell_type": "code",
   "execution_count": 6,
   "metadata": {},
   "outputs": [
    {
     "name": "stderr",
     "output_type": "stream",
     "text": [
      "\u001b[36m\u001b[1m┌ \u001b[22m\u001b[39m\u001b[36m\u001b[1mInfo: \u001b[22m\u001b[39mP&L bounded case\n",
      "\u001b[36m\u001b[1m│ \u001b[22m\u001b[39m  i = 10\n",
      "\u001b[36m\u001b[1m└ \u001b[22m\u001b[39m  length(pl_state.markov) = 4\n"
     ]
    }
   ],
   "source": [
    "new_A = lawrence_lifting(A)\n",
    "new_b = [10000, 10000, 10000, 10000, 10000, 10000]\n",
    "new_c = [1 1 1 1 1 1 1 1 1 1]\n",
    "gb_ipgbs = groebner_basis(new_A, new_b, new_c; apply_normalization=false, truncation_type=:None);"
   ]
  },
  {
   "cell_type": "code",
   "execution_count": 7,
   "metadata": {},
   "outputs": [],
   "source": [
    "G = IPGBs.FourTi2.groebner(new_A, new_c)\n",
    "gb_4ti2 = [G[i, :] for i in 1:size(G, 1)];"
   ]
  },
  {
   "cell_type": "code",
   "execution_count": 13,
   "metadata": {},
   "outputs": [
    {
     "name": "stdout",
     "output_type": "stream",
     "text": [
      "IPGBs.GBTools.isincluded(gb_ipgbs, gb_4ti2) = true\n",
      "IPGBs.GBTools.isincluded(gb_4ti2, gb_ipgbs) = true\n"
     ]
    }
   ],
   "source": [
    "@show IPGBs.GBTools.isincluded(gb_ipgbs, gb_4ti2)\n",
    "@show IPGBs.GBTools.isincluded(gb_4ti2, gb_ipgbs);"
   ]
  }
 ],
 "metadata": {
  "kernelspec": {
   "display_name": "Julia 1.11.1",
   "language": "julia",
   "name": "julia-1.11"
  },
  "language_info": {
   "file_extension": ".jl",
   "mimetype": "application/julia",
   "name": "julia",
   "version": "1.11.1"
  }
 },
 "nbformat": 4,
 "nbformat_minor": 2
}
